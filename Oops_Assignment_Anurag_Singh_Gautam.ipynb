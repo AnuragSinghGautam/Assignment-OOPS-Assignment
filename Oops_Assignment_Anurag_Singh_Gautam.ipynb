{
  "nbformat": 4,
  "nbformat_minor": 0,
  "metadata": {
    "colab": {
      "provenance": []
    },
    "kernelspec": {
      "name": "python3",
      "display_name": "Python 3"
    },
    "language_info": {
      "name": "python"
    }
  },
  "cells": [
    {
      "cell_type": "markdown",
      "source": [
        "# **OOPS ASSIGNMENT**\n",
        "\n",
        "**1. What are the five key concepts of Object-Oriented Programming (OOP)?**\n",
        "\n",
        "Ans.\n",
        "Key Concepts of OOP:\n",
        "\n",
        "    Encapsulation\n",
        "    Inheritance\n",
        "    Polymorphism\n",
        "    Abstraction\n",
        "    Method Overloading"
      ],
      "metadata": {
        "id": "Sgdc1cbTsvSj"
      }
    },
    {
      "cell_type": "markdown",
      "source": [
        "___\n",
        "**2. Write a Python class for a `Car` with attributes for `make`, `model`, and `year`. Include a method to display the car's information**\n",
        "\n",
        "Ans.\n",
        "\n"
      ],
      "metadata": {
        "id": "M_nMgwXOtJOy"
      }
    },
    {
      "cell_type": "code",
      "source": [
        "class Car:\n",
        "    def __init__(self, make, model, year):\n",
        "        self.make = make\n",
        "        self.model = model\n",
        "        self.year = year\n",
        "\n",
        "    def display_info(self):\n",
        "        print(f\"{self.year} {self.make} {self.model}\")\n",
        "\n",
        "car = Car(\"Toyota\", \"Corolla\", 2020)\n",
        "car.display_info()\n"
      ],
      "metadata": {
        "colab": {
          "base_uri": "https://localhost:8080/"
        },
        "id": "sdo-Ylw-tPti",
        "outputId": "af56cce8-d514-4860-f6ac-1cdb354fccd8"
      },
      "execution_count": 1,
      "outputs": [
        {
          "output_type": "stream",
          "name": "stdout",
          "text": [
            "2020 Toyota Corolla\n"
          ]
        }
      ]
    },
    {
      "cell_type": "markdown",
      "source": [
        "___\n",
        "**3. Explain the difference between instance methods and class methods. Provide an example of each.**\n",
        "\n",
        "Ans.\n",
        "\n",
        "**Instance Method-> Operates on an instance of the class.**"
      ],
      "metadata": {
        "id": "UajvKykMteLF"
      }
    },
    {
      "cell_type": "code",
      "source": [
        "class Example:\n",
        "    def instance_method(self):\n",
        "        return \"Instance Method\"\n",
        "\n",
        "ex = Example()\n",
        "print(ex.instance_method())\n"
      ],
      "metadata": {
        "colab": {
          "base_uri": "https://localhost:8080/"
        },
        "id": "ul7u7Ihnto_l",
        "outputId": "89723e44-fb5b-4183-b585-5f1c2a03d881"
      },
      "execution_count": 2,
      "outputs": [
        {
          "output_type": "stream",
          "name": "stdout",
          "text": [
            "Instance Method\n"
          ]
        }
      ]
    },
    {
      "cell_type": "markdown",
      "source": [
        "**Class Method: Operates on the class itself rather than an instance. Use @classmethod decorator.**"
      ],
      "metadata": {
        "id": "lEPaw8tztxxC"
      }
    },
    {
      "cell_type": "code",
      "source": [
        "class Example:\n",
        "    @classmethod\n",
        "    def class_method(cls):\n",
        "        return \"Class Method\"\n",
        "\n",
        "print(Example.class_method())\n"
      ],
      "metadata": {
        "colab": {
          "base_uri": "https://localhost:8080/"
        },
        "id": "Kk0Yp3c-t1Ng",
        "outputId": "2bb8fae6-8f1a-444a-b709-cfef9442e8b8"
      },
      "execution_count": 3,
      "outputs": [
        {
          "output_type": "stream",
          "name": "stdout",
          "text": [
            "Class Method\n"
          ]
        }
      ]
    },
    {
      "cell_type": "markdown",
      "source": [
        "___\n",
        "**4. How does Python implement method overloading? Give an example.**\n",
        "\n",
        "Ans.\n",
        "\n",
        "Method Overloading in Python: Python does not support traditional method overloading. Use default arguments or variable-length arguments.\n",
        "\n",
        "Example:"
      ],
      "metadata": {
        "id": "k6KB1XfNt61b"
      }
    },
    {
      "cell_type": "code",
      "source": [
        "class OverloadExample:\n",
        "    def display(self, value=None):\n",
        "        if value is None:\n",
        "            print(\"No value\")\n",
        "        else:\n",
        "            print(f\"Value: {value}\")\n",
        "\n",
        "obj = OverloadExample()\n",
        "obj.display()\n",
        "obj.display(10)\n"
      ],
      "metadata": {
        "colab": {
          "base_uri": "https://localhost:8080/"
        },
        "id": "MpXcXp3uuDUh",
        "outputId": "d40764ca-9090-4017-8484-dde4323ecc6b"
      },
      "execution_count": 4,
      "outputs": [
        {
          "output_type": "stream",
          "name": "stdout",
          "text": [
            "No value\n",
            "Value: 10\n"
          ]
        }
      ]
    },
    {
      "cell_type": "markdown",
      "source": [
        "___\n",
        "**5. What are the three types of access modifiers in Python? How are they denoted?**\n",
        "\n",
        "Ans.\n",
        "\n",
        "Access Modifiers in Python:\n",
        "\n",
        "    Public: No special prefix.\n",
        "    Protected: Prefix with a single underscore _.\n",
        "    Private: Prefix with double underscores __."
      ],
      "metadata": {
        "id": "hGGWZLT3uHTa"
      }
    },
    {
      "cell_type": "markdown",
      "source": [
        "___\n",
        "**6. Describe the five types of inheritance in Python. Provide a simple example of multiple inheritance**\n",
        "\n",
        "Ans.\n",
        "\n",
        "Types of Inheritance:\n",
        "\n",
        "    Single Inheritance\n",
        "    Multiple Inheritance\n",
        "    Multilevel Inheritance\n",
        "    Hierarchical Inheritance\n",
        "    Hybrid Inheritance\n",
        "  Example of Multiple Inheritance:"
      ],
      "metadata": {
        "id": "qpL_dkz7uPr0"
      }
    },
    {
      "cell_type": "code",
      "source": [
        "class A:\n",
        "    def method_a(self):\n",
        "        print(\"Method A\")\n",
        "\n",
        "class B:\n",
        "    def method_b(self):\n",
        "        print(\"Method B\")\n",
        "\n",
        "class C(A, B):\n",
        "    pass\n",
        "\n",
        "obj = C()\n",
        "obj.method_a()\n",
        "obj.method_b()\n"
      ],
      "metadata": {
        "colab": {
          "base_uri": "https://localhost:8080/"
        },
        "id": "0vwgxaiIuZWN",
        "outputId": "acf9a30c-2883-44eb-f8fd-c62425bdd2c9"
      },
      "execution_count": 5,
      "outputs": [
        {
          "output_type": "stream",
          "name": "stdout",
          "text": [
            "Method A\n",
            "Method B\n"
          ]
        }
      ]
    },
    {
      "cell_type": "markdown",
      "source": [
        "___\n",
        "**7. What is the Method Resolution Order (MRO) in Python? How can you retrieve it programmatically**\n",
        "\n",
        "Ans.\n",
        "\n",
        "Method Resolution Order (MRO): MRO determines the order in which base classes are searched when executing a method."
      ],
      "metadata": {
        "id": "4ri7evbouc6S"
      }
    },
    {
      "cell_type": "code",
      "source": [
        "class A:\n",
        "    pass\n",
        "\n",
        "class B(A):\n",
        "    pass\n",
        "\n",
        "class C(A):\n",
        "    pass\n",
        "\n",
        "class D(B, C):\n",
        "    pass\n",
        "\n",
        "print(D.mro())\n"
      ],
      "metadata": {
        "colab": {
          "base_uri": "https://localhost:8080/"
        },
        "id": "v8L3FtMyuoSY",
        "outputId": "af483ca6-c971-4fbc-b1f5-162aed8bc90a"
      },
      "execution_count": 6,
      "outputs": [
        {
          "output_type": "stream",
          "name": "stdout",
          "text": [
            "[<class '__main__.D'>, <class '__main__.B'>, <class '__main__.C'>, <class '__main__.A'>, <class 'object'>]\n"
          ]
        }
      ]
    },
    {
      "cell_type": "markdown",
      "source": [
        "___\n",
        "**8. Create an abstract base class `Shape` with an abstract method `area()`. Then create two subclasses`Circle` and `Rectangle` that implement the `area()` method.**\n",
        "\n",
        "Ans.\n",
        "\n"
      ],
      "metadata": {
        "id": "s-snbqc5xPWZ"
      }
    },
    {
      "cell_type": "code",
      "source": [
        "from abc import ABC, abstractmethod\n",
        "\n",
        "class Shape(ABC):\n",
        "    @abstractmethod\n",
        "    def area(self):\n",
        "        pass\n",
        "\n",
        "class Circle(Shape):\n",
        "    def __init__(self, radius):\n",
        "        self.radius = radius\n",
        "\n",
        "    def area(self):\n",
        "        return 3.14 * self.radius ** 2\n",
        "\n",
        "class Rectangle(Shape):\n",
        "    def __init__(self, width, height):\n",
        "        self.width = width\n",
        "        self.height = height\n",
        "\n",
        "    def area(self):\n",
        "        return self.width * self.height\n",
        "\n",
        "circle = Circle(5)\n",
        "rectangle = Rectangle(4, 6)\n",
        "print(circle.area())\n",
        "print(rectangle.area())\n"
      ],
      "metadata": {
        "colab": {
          "base_uri": "https://localhost:8080/"
        },
        "id": "80mQ6-fdxWZc",
        "outputId": "982b3cd4-f406-4d80-f5fa-039a44899e0a"
      },
      "execution_count": 7,
      "outputs": [
        {
          "output_type": "stream",
          "name": "stdout",
          "text": [
            "78.5\n",
            "24\n"
          ]
        }
      ]
    },
    {
      "cell_type": "markdown",
      "source": [
        "___\n",
        "**9. Demonstrate polymorphism by creating a function that can work with different shape objects to calculate and print their areas.**"
      ],
      "metadata": {
        "id": "UweUFLsyxapk"
      }
    },
    {
      "cell_type": "code",
      "source": [
        "def print_area(shape):\n",
        "    print(f\"Area: {shape.area()}\")\n",
        "\n",
        "print_area(Circle(5))\n",
        "print_area(Rectangle(4, 6))\n"
      ],
      "metadata": {
        "colab": {
          "base_uri": "https://localhost:8080/"
        },
        "id": "oFsPryYbxd9t",
        "outputId": "838505fe-3bb1-4447-c7e2-14f547ac917a"
      },
      "execution_count": 8,
      "outputs": [
        {
          "output_type": "stream",
          "name": "stdout",
          "text": [
            "Area: 78.5\n",
            "Area: 24\n"
          ]
        }
      ]
    },
    {
      "cell_type": "markdown",
      "source": [
        "___\n",
        "**10. Implement encapsulation in a `BankAccount` class with private attributes for `balance` and `account_number`. Include methods for deposit, withdrawal, and balance inquiry.**\n"
      ],
      "metadata": {
        "id": "JbBiDKEMxlYb"
      }
    },
    {
      "cell_type": "code",
      "source": [
        "class BankAccount:\n",
        "    def __init__(self, account_number, balance):\n",
        "        self.__account_number = account_number\n",
        "        self.__balance = balance\n",
        "\n",
        "    def deposit(self, amount):\n",
        "        self.__balance += amount\n",
        "\n",
        "    def withdraw(self, amount):\n",
        "        if amount <= self.__balance:\n",
        "            self.__balance -= amount\n",
        "\n",
        "    def get_balance(self):\n",
        "        return self.__balance\n",
        "\n",
        "account = BankAccount(\"123456\", 1000)\n",
        "account.deposit(500)\n",
        "account.withdraw(200)\n",
        "print(account.get_balance())\n"
      ],
      "metadata": {
        "colab": {
          "base_uri": "https://localhost:8080/"
        },
        "id": "_uXJsh7WxqI7",
        "outputId": "c98fa0f6-8836-45e8-9d79-949f5c2b3891"
      },
      "execution_count": 9,
      "outputs": [
        {
          "output_type": "stream",
          "name": "stdout",
          "text": [
            "1300\n"
          ]
        }
      ]
    },
    {
      "cell_type": "markdown",
      "source": [
        "___\n",
        "**11. Write a class that overrides the `__str__` and `__add__` magic methods. What will these methods allow you to do?**"
      ],
      "metadata": {
        "id": "a1n7WVErxtO7"
      }
    },
    {
      "cell_type": "code",
      "source": [
        "class Number:\n",
        "    def __init__(self, value):\n",
        "        self.value = value\n",
        "\n",
        "    def __str__(self):\n",
        "        return str(self.value)\n",
        "\n",
        "    def __add__(self, other):\n",
        "        return Number(self.value + other.value)\n",
        "\n",
        "num1 = Number(5)\n",
        "num2 = Number(10)\n",
        "print(num1)  # __str__ usage\n",
        "result = num1 + num2  # __add__ usage\n",
        "print(result)\n"
      ],
      "metadata": {
        "colab": {
          "base_uri": "https://localhost:8080/"
        },
        "id": "LJZadb88xx7f",
        "outputId": "4b019238-584c-46bd-b10a-2af0bb7e3621"
      },
      "execution_count": 10,
      "outputs": [
        {
          "output_type": "stream",
          "name": "stdout",
          "text": [
            "5\n",
            "15\n"
          ]
        }
      ]
    },
    {
      "cell_type": "markdown",
      "source": [
        "___\n",
        "**12. Create a decorator that measures and prints the execution time of a function.**"
      ],
      "metadata": {
        "id": "oVoU5FM8x2yY"
      }
    },
    {
      "cell_type": "code",
      "source": [
        "import time\n",
        "\n",
        "def timing_decorator(func):\n",
        "    def wrapper(*args, **kwargs):\n",
        "        start_time = time.time()\n",
        "        result = func(*args, **kwargs)\n",
        "        end_time = time.time()\n",
        "        print(f\"Execution time: {end_time - start_time} seconds\")\n",
        "        return result\n",
        "    return wrapper\n",
        "\n",
        "@timing_decorator\n",
        "def sample_function():\n",
        "    time.sleep(1)\n",
        "\n",
        "sample_function()\n"
      ],
      "metadata": {
        "colab": {
          "base_uri": "https://localhost:8080/"
        },
        "id": "16aq7f3Rx5MC",
        "outputId": "ef22cae6-b75c-4223-afc1-d8f192364dd3"
      },
      "execution_count": 11,
      "outputs": [
        {
          "output_type": "stream",
          "name": "stdout",
          "text": [
            "Execution time: 1.0007455348968506 seconds\n"
          ]
        }
      ]
    },
    {
      "cell_type": "markdown",
      "source": [
        "___\n",
        "**13. Explain the concept of the Diamond Problem in multiple inheritance. How does Python resolve it?**\n",
        "\n",
        "Ans.\n",
        "\n",
        "Diamond Problem: In multiple inheritance, a class inherits from two classes that have a common base class. Python resolves it using C3 linearization."
      ],
      "metadata": {
        "id": "ZYzo5pvRx79N"
      }
    },
    {
      "cell_type": "code",
      "source": [
        "class A:\n",
        "    def method(self):\n",
        "        print(\"A\")\n",
        "\n",
        "class B(A):\n",
        "    def method(self):\n",
        "        print(\"B\")\n",
        "\n",
        "class C(A):\n",
        "    def method(self):\n",
        "        print(\"C\")\n",
        "\n",
        "class D(B, C):\n",
        "    pass\n",
        "\n",
        "obj = D()\n",
        "obj.method()\n",
        "print(D.mro())\n"
      ],
      "metadata": {
        "colab": {
          "base_uri": "https://localhost:8080/"
        },
        "id": "-x34lPUdyBCu",
        "outputId": "68f35efe-8407-4e5a-8778-b2f570787f99"
      },
      "execution_count": 12,
      "outputs": [
        {
          "output_type": "stream",
          "name": "stdout",
          "text": [
            "B\n",
            "[<class '__main__.D'>, <class '__main__.B'>, <class '__main__.C'>, <class '__main__.A'>, <class 'object'>]\n"
          ]
        }
      ]
    },
    {
      "cell_type": "markdown",
      "source": [
        "___\n",
        "**14. Write a class method that keeps track of the number of instances created from a class.**"
      ],
      "metadata": {
        "id": "-Rt09KrNyD1O"
      }
    },
    {
      "cell_type": "code",
      "source": [
        "class Counter:\n",
        "    instance_count = 0\n",
        "\n",
        "    def __init__(self):\n",
        "        Counter.instance_count += 1\n",
        "\n",
        "    @classmethod\n",
        "    def get_instance_count(cls):\n",
        "        return cls.instance_count\n",
        "\n",
        "a = Counter()\n",
        "b = Counter()\n",
        "print(Counter.get_instance_count())\n"
      ],
      "metadata": {
        "colab": {
          "base_uri": "https://localhost:8080/"
        },
        "id": "BNNi91tNyGx6",
        "outputId": "c4bc859c-7eb6-435d-e042-f36c1e091d7b"
      },
      "execution_count": 13,
      "outputs": [
        {
          "output_type": "stream",
          "name": "stdout",
          "text": [
            "2\n"
          ]
        }
      ]
    },
    {
      "cell_type": "markdown",
      "source": [
        "___\n",
        "**15. Implement a static method in a class that checks if a given year is a leap year.**"
      ],
      "metadata": {
        "id": "9PZpPBo9yJcf"
      }
    },
    {
      "cell_type": "code",
      "source": [
        "class YearUtils:\n",
        "    @staticmethod\n",
        "    def is_leap_year(year):\n",
        "        return (year % 4 == 0 and year % 100 != 0) or (year % 400 == 0)\n",
        "\n",
        "print(YearUtils.is_leap_year(2024))\n",
        "print(YearUtils.is_leap_year(1900))\n"
      ],
      "metadata": {
        "colab": {
          "base_uri": "https://localhost:8080/"
        },
        "id": "7muYjX3wyNIb",
        "outputId": "f08d337b-be56-4fed-9b11-f02491731369"
      },
      "execution_count": 14,
      "outputs": [
        {
          "output_type": "stream",
          "name": "stdout",
          "text": [
            "True\n",
            "False\n"
          ]
        }
      ]
    }
  ]
}